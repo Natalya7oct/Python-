{
 "cells": [
  {
   "cell_type": "markdown",
   "metadata": {},
   "source": [
    "### Задание 1\n",
    "\n",
    "Напишите функцию date_range, которая возвращает список дней между датами start_date и end_date. Даты должны вводиться в формате YYYY-MM-DD.\n",
    "### Задание 2\n",
    "\n",
    "Дополните функцию из первого задания проверкой на корректность дат. В случае неверного формата или если start_date > end_date должен возвращаться пустой список."
   ]
  },
  {
   "cell_type": "code",
   "execution_count": 1,
   "metadata": {
    "collapsed": true
   },
   "outputs": [],
   "source": [
    "from datetime import timedelta\n",
    "from datetime import datetime\n",
    "from datetime import date\n",
    "from dateutil.relativedelta import relativedelta"
   ]
  },
  {
   "cell_type": "code",
   "execution_count": 2,
   "metadata": {
    "collapsed": false
   },
   "outputs": [],
   "source": [
    "def dates_between(x,y):\n",
    "    try:\n",
    "        start_date=datetime.strptime( x, '%Y-%m-%d')-timedelta(days=1)\n",
    "        end_date=datetime.strptime( y, '%Y-%m-%d')\n",
    "    except:\n",
    "        return (1)\n",
    "    if (start_date>=end_date):\n",
    "        return (2)\n",
    "    else:\n",
    "        while(start_date<end_date):\n",
    "            print(start_date + timedelta(days=1))\n",
    "            start_date=start_date + timedelta(days=1)"
   ]
  },
  {
   "cell_type": "code",
   "execution_count": 25,
   "metadata": {
    "collapsed": false
   },
   "outputs": [
    {
     "name": "stdout",
     "output_type": "stream",
     "text": [
      "2019-02-28 00:00:00\n",
      "2019-03-01 00:00:00\n",
      "2019-03-02 00:00:00\n",
      "2019-03-03 00:00:00\n",
      "2019-03-04 00:00:00\n"
     ]
    }
   ],
   "source": [
    "x='2019-02-28'\n",
    "y='2019-03-04'\n",
    "dates_between(x,y)"
   ]
  },
  {
   "cell_type": "markdown",
   "metadata": {},
   "source": [
    "### Задание 3\n",
    "\n",
    "Дан поток дат в формате YYYY-MM-DD, в которых встречаются некорректные значения:\n",
    "stream = [‘2018-04-02’, ‘2018-02-29’, ‘2018-19-02’]\n",
    "Напишите функцию, которая проверяет эти даты на корректность. Т. е. для каждой даты возвращает True (дата корректна) или False (некорректная дата).\n",
    "\n"
   ]
  },
  {
   "cell_type": "code",
   "execution_count": 58,
   "metadata": {
    "collapsed": false
   },
   "outputs": [],
   "source": [
    "stream = ['2018-04-02', '2018-02-29', '2018-19-02', '2020-02-29']"
   ]
  },
  {
   "cell_type": "code",
   "execution_count": 59,
   "metadata": {
    "collapsed": false
   },
   "outputs": [],
   "source": [
    "def correct_date(stream):\n",
    "    for i in range(len(stream)):\n",
    "        try:\n",
    "            stream[i]=datetime.strptime( stream[i], '%Y-%m-%d')\n",
    "            print('True')\n",
    "        except:\n",
    "            print('False')"
   ]
  },
  {
   "cell_type": "code",
   "execution_count": 60,
   "metadata": {
    "collapsed": false
   },
   "outputs": [
    {
     "name": "stdout",
     "output_type": "stream",
     "text": [
      "True\n",
      "False\n",
      "False\n",
      "True\n"
     ]
    }
   ],
   "source": [
    "correct_date(stream)"
   ]
  },
  {
   "cell_type": "markdown",
   "metadata": {},
   "source": [
    "### Задание 4\n",
    "\n",
    "Напишите функцию, которая возвращает список дат с 1 по вчерашний день текущего месяца. Если дан 1 день месяца, то возвращается список дней прошлого месяца."
   ]
  },
  {
   "cell_type": "code",
   "execution_count": 9,
   "metadata": {
    "collapsed": false
   },
   "outputs": [],
   "source": [
    "def days_before_today():\n",
    "    today_day=date.today()\n",
    "    if today_day.day==1:\n",
    "        if today_day.month==1:\n",
    "            first_date, last_date = date(today_day.year-1, 12, 1), date(today_day.year-1, 12, 1) + relativedelta(day=100)\n",
    "        else:\n",
    "            first_date, last_date = date(today_day.year, today_day.month-1, 1), date(today_day.year, today_day.month-1, 1) + relativedelta(day=100)\n",
    "    else:\n",
    "        first_date, last_date = date(today_day.year, today_day.month, 1), today_day-timedelta(days=1)\n",
    "    dates_between(str(first_date), str(last_date))"
   ]
  },
  {
   "cell_type": "code",
   "execution_count": 10,
   "metadata": {
    "collapsed": false
   },
   "outputs": [
    {
     "name": "stdout",
     "output_type": "stream",
     "text": [
      "2019-03-01 00:00:00\n",
      "2019-03-02 00:00:00\n",
      "2019-03-03 00:00:00\n",
      "2019-03-04 00:00:00\n",
      "2019-03-05 00:00:00\n",
      "2019-03-06 00:00:00\n",
      "2019-03-07 00:00:00\n",
      "2019-03-08 00:00:00\n",
      "2019-03-09 00:00:00\n",
      "2019-03-10 00:00:00\n",
      "2019-03-11 00:00:00\n",
      "2019-03-12 00:00:00\n",
      "2019-03-13 00:00:00\n",
      "2019-03-14 00:00:00\n",
      "2019-03-15 00:00:00\n",
      "2019-03-16 00:00:00\n"
     ]
    }
   ],
   "source": [
    "days_before_today()"
   ]
  },
  {
   "cell_type": "markdown",
   "metadata": {
    "collapsed": true
   },
   "source": [
    "### Задание 5\n",
    "\n",
    "Напишите функцию, которая возвращает точную дату в формате YYYY-MM-DD по фразе:\n",
    "\n",
    "‘today’ - сегодняшнюю дату\n",
    "‘last monday’ - прошлый понедельник\n",
    "‘last day’ - Последний день текущего месяца"
   ]
  },
  {
   "cell_type": "code",
   "execution_count": 62,
   "metadata": {
    "collapsed": false
   },
   "outputs": [],
   "source": [
    "class Date_you_need:\n",
    "    def __init__(self, format='today'):\n",
    "        self.format = format\n",
    "    def date_for_you(self):\n",
    "        if self.format=='today':\n",
    "            day=datetime.strptime( str(date.today()), '%Y-%m-%d')\n",
    "            return day.strftime('%Y-%m-%d')\n",
    "        if self.format=='last monday':\n",
    "            if td.isoweekday()==1:\n",
    "                day=datetime.strptime( str(date.today()), '%Y-%m-%d') - timedelta(days=7)\n",
    "                return day.strftime('%Y-%m-%d')\n",
    "            else:\n",
    "                day=datetime.strptime( str(date.today()), '%Y-%m-%d') - timedelta(days=(td.isoweekday()-1))\n",
    "                return day.strftime('%Y-%m-%d')\n",
    "        if self.format=='last day':\n",
    "            day=datetime.strptime( str(date.today()+ relativedelta(day=100)), '%Y-%m-%d') \n",
    "            return day.strftime('%Y-%m-%d')"
   ]
  },
  {
   "cell_type": "code",
   "execution_count": 65,
   "metadata": {
    "collapsed": false
   },
   "outputs": [
    {
     "data": {
      "text/plain": [
       "'2019-03-17'"
      ]
     },
     "execution_count": 65,
     "metadata": {},
     "output_type": "execute_result"
    }
   ],
   "source": [
    "Date_you_need('today').date_for_you()"
   ]
  },
  {
   "cell_type": "code",
   "execution_count": null,
   "metadata": {
    "collapsed": true
   },
   "outputs": [],
   "source": []
  }
 ],
 "metadata": {
  "anaconda-cloud": {},
  "kernelspec": {
   "display_name": "Python [conda root]",
   "language": "python",
   "name": "conda-root-py"
  },
  "language_info": {
   "codemirror_mode": {
    "name": "ipython",
    "version": 3
   },
   "file_extension": ".py",
   "mimetype": "text/x-python",
   "name": "python",
   "nbconvert_exporter": "python",
   "pygments_lexer": "ipython3",
   "version": "3.5.2"
  }
 },
 "nbformat": 4,
 "nbformat_minor": 1
}
