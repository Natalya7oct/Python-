{
 "cells": [
  {
   "cell_type": "markdown",
   "metadata": {},
   "source": [
    "### Задание 1\n",
    "\n",
    "Дан список с визитами по городам и странам. Напишите код, который возвращает отфильтрованный список geo_logs, содержащий только визиты из России. Считайте, что список geo_logs легко помещается в оперативной памяти."
   ]
  },
  {
   "cell_type": "code",
   "execution_count": 118,
   "metadata": {
    "collapsed": true
   },
   "outputs": [],
   "source": [
    "geo_logs = [\n",
    "\n",
    "    {'visit1': ['Москва', 'Россия']},\n",
    "    \n",
    "    {'visit2': ['Дели', 'Индия']},\n",
    "    \n",
    "    {'visit3': ['Владимир', 'Россия']},\n",
    "    \n",
    "    {'visit4': ['Лиссабон', 'Португалия']},\n",
    "    \n",
    "    {'visit5': ['Париж', 'Франция']},\n",
    "    \n",
    "    {'visit6': ['Лиссабон', 'Португалия']},\n",
    "    \n",
    "    {'visit7': ['Тула', 'Россия']},\n",
    "    \n",
    "    {'visit8': ['Тула', 'Россия']},\n",
    "    \n",
    "    {'visit9': ['Курск', 'Россия']},\n",
    "    \n",
    "    {'visit10': ['Архангельск', 'Россия']},\n",
    "    \n",
    "]"
   ]
  },
  {
   "cell_type": "code",
   "execution_count": 119,
   "metadata": {
    "collapsed": false
   },
   "outputs": [
    {
     "data": {
      "text/plain": [
       "[{'visit1': ['Москва', 'Россия']},\n",
       " {'visit3': ['Владимир', 'Россия']},\n",
       " {'visit7': ['Тула', 'Россия']},\n",
       " {'visit8': ['Тула', 'Россия']},\n",
       " {'visit9': ['Курск', 'Россия']},\n",
       " {'visit10': ['Архангельск', 'Россия']}]"
      ]
     },
     "execution_count": 119,
     "metadata": {},
     "output_type": "execute_result"
    }
   ],
   "source": [
    "new_geo_logs=[]\n",
    "for line in geo_logs:\n",
    "    if 'Россия' in str(line.values()):\n",
    "        new_geo_logs.append(line)\n",
    "new_geo_logs"
   ]
  },
  {
   "cell_type": "markdown",
   "metadata": {},
   "source": [
    "### Задание 2\n",
    "\n",
    "\n",
    "Выведите на экран все уникальные гео-ID из значений словаря ids. Т. е. список вида [213, 15, 54, 119, 98, 35]"
   ]
  },
  {
   "cell_type": "code",
   "execution_count": 136,
   "metadata": {
    "collapsed": true
   },
   "outputs": [],
   "source": [
    "ids = {'user1': [213, 213, 213, 15, 213], 'user2': [54, 54, 119, 119, 119], 'user3': [213, 98, 98, 35]}"
   ]
  },
  {
   "cell_type": "code",
   "execution_count": 141,
   "metadata": {
    "collapsed": false
   },
   "outputs": [
    {
     "data": {
      "text/plain": [
       "{15, 35, 54, 98, 119, 213}"
      ]
     },
     "execution_count": 141,
     "metadata": {},
     "output_type": "execute_result"
    }
   ],
   "source": [
    "unique_ids=[]\n",
    "for line in list((ids.values())):\n",
    "    for i in range(len(line)):\n",
    "        unique_ids.append(line[i])\n",
    "set(unique_ids)"
   ]
  },
  {
   "cell_type": "markdown",
   "metadata": {},
   "source": [
    "### Задание 3\n",
    "\n",
    "Список поисковых запросов. Получить распределение количества слов в них. Т. е. поисковых запросов из одного слова 5%, из двух - 7%, из трех - 3% итд."
   ]
  },
  {
   "cell_type": "code",
   "execution_count": 145,
   "metadata": {
    "collapsed": true
   },
   "outputs": [],
   "source": [
    "queries = [\n",
    "\n",
    "    'смотреть сериалы онлайн',\n",
    "    \n",
    "    'новости спорта',\n",
    "    \n",
    "    'афиша кино',\n",
    "    \n",
    "    'курс доллара',\n",
    "    \n",
    "    'сериалы этим летом',\n",
    "    \n",
    "    'курс по питону',\n",
    "    \n",
    "    'сериалы про спорт',\n",
    "    ]"
   ]
  },
  {
   "cell_type": "code",
   "execution_count": 172,
   "metadata": {
    "collapsed": false
   },
   "outputs": [
    {
     "name": "stdout",
     "output_type": "stream",
     "text": [
      "(3, 57)\n",
      "(2, 43)\n"
     ]
    }
   ],
   "source": [
    "a=[]\n",
    "b=[]\n",
    "c=[]\n",
    "for line in queries:\n",
    "    a.append(len(line.split(\" \")))\n",
    "for i in range(len(a)):\n",
    "    if a[i] not in b:\n",
    "        b.append(a[i])\n",
    "        c.append(round(a.count(a[i])/len(a)*100.0))\n",
    "distribution=zip(b,c)\n",
    "for element in distribution:\n",
    "    print(element)"
   ]
  },
  {
   "cell_type": "markdown",
   "metadata": {},
   "source": [
    "### Задание 4\n",
    "\n",
    "Дана статистика рекламных каналов по объемам продаж. Напишите скрипт, который возвращает название канала с максимальным объемом.\n",
    "Т. е. в данном примере скрипт должен возвращать 'yandex'."
   ]
  },
  {
   "cell_type": "code",
   "execution_count": 173,
   "metadata": {
    "collapsed": true
   },
   "outputs": [],
   "source": [
    "stats = {'facebook': 55, 'yandex': 120, 'vk': 115, 'google': 99, 'email': 42, 'ok': 98}"
   ]
  },
  {
   "cell_type": "code",
   "execution_count": null,
   "metadata": {
    "collapsed": true
   },
   "outputs": [],
   "source": [
    "# возвращает ключ по значению\n",
    "def get_key(d, value):\n",
    "    for k, v in d.items():\n",
    "        if v == value:\n",
    "            return k"
   ]
  },
  {
   "cell_type": "code",
   "execution_count": 202,
   "metadata": {
    "collapsed": false
   },
   "outputs": [
    {
     "name": "stdout",
     "output_type": "stream",
     "text": [
      "yandex\n"
     ]
    }
   ],
   "source": [
    "a=0\n",
    "for line in list(stats.values()):\n",
    "    if line>a:\n",
    "        a=line\n",
    "print(get_key(stats,a))"
   ]
  },
  {
   "cell_type": "markdown",
   "metadata": {},
   "source": [
    "### Задание 5\n",
    "\n",
    "Дан поток логов по количеству просмотренных страниц для каждого пользователя. Список отсортирован по ID пользователя. Вам необходимо написать алгоритм, который считает среднее значение просмотров на пользователя. Т. е. надо посчитать отношение суммы всех просмотров к количеству уникальных пользователей. Учтите, что весь список stream не помещается в оперативную память, т. е. его нужно обрабатывать поэлементно в цикле."
   ]
  },
  {
   "cell_type": "code",
   "execution_count": 242,
   "metadata": {
    "collapsed": true
   },
   "outputs": [],
   "source": [
    "stream = [\n",
    "\n",
    "    '2018-01-01,user1,3',\n",
    "    \n",
    "    '2018-01-07,user1,4',\n",
    "    \n",
    "    '2018-03-29,user1,1',\n",
    "    \n",
    "    \n",
    "    '2018-01-05,user2,7',\n",
    "    \n",
    "    '2018-06-14,user3,4',\n",
    "    \n",
    "    '2018-07-02,user3,10',\n",
    "    \n",
    "    '2018-03-21,user4,19',\n",
    "    \n",
    "    '2018-03-22,user4,4',\n",
    "    \n",
    "    '2018-04-22,user4,8',\n",
    "    \n",
    "    '2018-05-03,user4,9',\n",
    "    \n",
    "    '2018-05-11,user4,11',\n",
    "    \n",
    "]"
   ]
  },
  {
   "cell_type": "code",
   "execution_count": 247,
   "metadata": {
    "collapsed": false
   },
   "outputs": [
    {
     "name": "stdout",
     "output_type": "stream",
     "text": [
      "('user1', 2.6666666666666665)\n",
      "('user2', 7.0)\n",
      "('user3', 7.0)\n",
      "('user4', 10.2)\n"
     ]
    }
   ],
   "source": [
    "list_stream=[]\n",
    "users=[]\n",
    "# найдем всех пользователей\n",
    "for line in stream:\n",
    "    list_stream.append(line.split(\",\"))\n",
    "for line in list_stream:\n",
    "    if line[1] not in users:\n",
    "        users.append(line[1])\n",
    "# посчитаем сумму всех страниц и количество просмотров для каждого пользователя\n",
    "total=[0]*len(users)\n",
    "count=[0]*len(users)\n",
    "for u in range(len(users)):\n",
    "    for i in range(len(list_stream)):\n",
    "        if list_stream[i][1]==users[u]:\n",
    "            count[u]+=1\n",
    "            total[u]=total[u]+int(list_stream[i][2])\n",
    "# посчитаем среднее значение страниц для каждого пользователя\n",
    "average=[]\n",
    "for u in range(len(users)):\n",
    "    average.append(total[u]/count[u])\n",
    "# выведем результаты\n",
    "user_average=zip(users,average)\n",
    "for element in user_average:\n",
    "    print(element)"
   ]
  },
  {
   "cell_type": "markdown",
   "metadata": {},
   "source": [
    "### Задание 6\n",
    "\n",
    "Дана статистика рекламных кампаний по дням. Напишите алгоритм, который по паре дата-кампания ищет значение численного столбца. Т. е. для даты '2018-01-01' и 'google' нужно получить число 25. Считайте, что все комбинации дата-кампания уникальны, а список stats легко помещается в оперативной памяти."
   ]
  },
  {
   "cell_type": "code",
   "execution_count": 254,
   "metadata": {
    "collapsed": true
   },
   "outputs": [],
   "source": [
    "stats = [\n",
    "\n",
    "    ['2018-01-01', 'google', 25],\n",
    "    \n",
    "    ['2018-01-01', 'yandex', 65],\n",
    "    \n",
    "    ['2018-01-01', 'market', 89],\n",
    "    \n",
    "    ['2018-01-02', 'google', 574],\n",
    "    \n",
    "    ['2018-01-02', 'yandex', 249],\n",
    "    \n",
    "    ['2018-01-02', 'market', 994],\n",
    "    \n",
    "    \n",
    "    ['2018-01-03', 'google', 1843],\n",
    "    \n",
    "    ['2018-01-03', 'yandex', 1327],\n",
    "    \n",
    "    ['2018-01-03', 'market', 1764],\n",
    "    \n",
    "]"
   ]
  },
  {
   "cell_type": "code",
   "execution_count": 257,
   "metadata": {
    "collapsed": true
   },
   "outputs": [],
   "source": [
    "# возвращает число по паре дата-компания\n",
    "def get_value(date,company):\n",
    "    for line in stats:\n",
    "        if (line[0] == date and line[1] == company):\n",
    "            return line[2]"
   ]
  },
  {
   "cell_type": "code",
   "execution_count": 258,
   "metadata": {
    "collapsed": false
   },
   "outputs": [
    {
     "data": {
      "text/plain": [
       "1764"
      ]
     },
     "execution_count": 258,
     "metadata": {},
     "output_type": "execute_result"
    }
   ],
   "source": [
    "#пример\n",
    "get_value('2018-01-03', 'market')"
   ]
  },
  {
   "cell_type": "markdown",
   "metadata": {},
   "source": [
    "### Бонусный вариант (делать его не обязательно)\n",
    "\n",
    "Рассмотрите обобщенный вариант этой задачи: имеется таблица из n столбцов. Первые n-1 столбцов - признаки (комбинации этих признаков в таблице уникальные). Последний столбец - значение. Вам необходимо по набору n-1 признаков найти соответствующую строчку в таблице и вернуть значение из правого столбца. Учтите, что исходная таблица может быть любого размера.\n",
    "\n",
    "Одно из применений задачи - объединение двух таблиц по n столбцов, одна из которых помещается в оперативной памяти. Например, 7 столбцов по 1 и 10 миллионов строк."
   ]
  },
  {
   "cell_type": "code",
   "execution_count": 271,
   "metadata": {
    "collapsed": false
   },
   "outputs": [],
   "source": [
    "# возвращает число по n-1 признакам\n",
    "def get_value(params, data):\n",
    "    counter=0\n",
    "    for line in data:\n",
    "        for i in range(len(line)-1):\n",
    "            if line[i]==params[i]:\n",
    "                counter+=1\n",
    "        if counter==len(line)-1:\n",
    "            return line[-1]"
   ]
  },
  {
   "cell_type": "code",
   "execution_count": 278,
   "metadata": {
    "collapsed": false
   },
   "outputs": [
    {
     "data": {
      "text/plain": [
       "45"
      ]
     },
     "execution_count": 278,
     "metadata": {},
     "output_type": "execute_result"
    }
   ],
   "source": [
    "# тест 1\n",
    "a = [\n",
    "\n",
    "    [1, 1, 25, 45],\n",
    "    \n",
    "    [2, 2, 65, 34],\n",
    "    \n",
    "    [3, 3, 89, 34],\n",
    "    \n",
    "    [4, 4, 574, 24],\n",
    "    \n",
    "    [5, 5, 249, 3],\n",
    "    \n",
    "    [5, 6, 994, 2],\n",
    "    ]\n",
    "b=(1,1,25)\n",
    "get_value(b,a)"
   ]
  },
  {
   "cell_type": "code",
   "execution_count": 279,
   "metadata": {
    "collapsed": false
   },
   "outputs": [
    {
     "data": {
      "text/plain": [
       "2"
      ]
     },
     "execution_count": 279,
     "metadata": {},
     "output_type": "execute_result"
    }
   ],
   "source": [
    "# тест 2\n",
    "a = [\n",
    "\n",
    "    [1, 4],\n",
    "    \n",
    "    [2, 2],\n",
    "    \n",
    "    ]\n",
    "b=[2]\n",
    "get_value(b,a)"
   ]
  },
  {
   "cell_type": "code",
   "execution_count": null,
   "metadata": {
    "collapsed": true
   },
   "outputs": [],
   "source": []
  }
 ],
 "metadata": {
  "anaconda-cloud": {},
  "kernelspec": {
   "display_name": "Python [conda root]",
   "language": "python",
   "name": "conda-root-py"
  },
  "language_info": {
   "codemirror_mode": {
    "name": "ipython",
    "version": 3
   },
   "file_extension": ".py",
   "mimetype": "text/x-python",
   "name": "python",
   "nbconvert_exporter": "python",
   "pygments_lexer": "ipython3",
   "version": "3.5.2"
  }
 },
 "nbformat": 4,
 "nbformat_minor": 1
}
